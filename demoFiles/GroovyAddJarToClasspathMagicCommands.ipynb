{
 "cells": [
  {
   "cell_type": "code",
   "execution_count": 4,
   "metadata": {},
   "outputs": [
    {
     "data": {
      "text/plain": [
       "null"
      ]
     },
     "execution_count": 4,
     "metadata": {},
     "output_type": "execute_result"
    }
   ],
   "source": [
    "import com.beakerx.BeakerxObject"
   ]
  },
  {
   "cell_type": "code",
   "execution_count": 6,
   "metadata": {
    "collapsed": true
   },
   "outputs": [],
   "source": [
    "%classpath add jar demoResources/beakerxTestLibrary.jar"
   ]
  },
  {
   "cell_type": "code",
   "execution_count": 7,
   "metadata": {},
   "outputs": [
    {
     "data": {
      "text/plain": [
       "null"
      ]
     },
     "execution_count": 7,
     "metadata": {},
     "output_type": "execute_result"
    }
   ],
   "source": [
    "import com.beakerx.BeakerxObject"
   ]
  },
  {
   "cell_type": "code",
   "execution_count": 8,
   "metadata": {},
   "outputs": [
    {
     "name": "stdout",
     "output_type": "stream",
     "text": [
      "BeakerxObject_test_123\n"
     ]
    },
    {
     "data": {
      "text/plain": [
       "null"
      ]
     },
     "execution_count": 8,
     "metadata": {},
     "output_type": "execute_result"
    }
   ],
   "source": [
    "%classpath add jar demoResources/beakerxTestLibrary.jar\n",
    "import com.beakerx.BeakerxObject\n",
    "BeakerxObject beakerxObject = new BeakerxObject();\n",
    "println beakerxObject.getObjectTest()"
   ]
  },
  {
   "cell_type": "code",
   "execution_count": 9,
   "metadata": {},
   "outputs": [
    {
     "name": "stdout",
     "output_type": "stream",
     "text": [
      "BeakerxObject_static_test_123\n",
      "BeakerxObject_test_123\n",
      "static_123\n",
      "object_123\n"
     ]
    }
   ],
   "source": [
    "%classpath add jar demoResources/beakerxTestLibrary.jar\n",
    "%classpath add jar demoResources/BeakerXClasspathTest.jar\n",
    "\n",
    "println com.beakerx.BeakerxObject.staticTest();\n",
    "\n",
    "import com.twosigma.beakerx.jvm.object.OutputCell\n",
    "import com.beakerx.BeakerxObject\n",
    "\n",
    "BeakerxObject beakerxObject = new BeakerxObject();\n",
    "println beakerxObject.getObjectTest()\n",
    "\n",
    "import com.beaker.BeakerXClasspathTest\n",
    "BeakerXClasspathTest t = new BeakerXClasspathTest();\n",
    "println com.beaker.BeakerXClasspathTest.staticTest;\n",
    "println t.getObjectTest();\n",
    "OutputCell.HIDDEN"
   ]
  },
  {
   "cell_type": "code",
   "execution_count": 10,
   "metadata": {},
   "outputs": [
    {
     "data": {
      "text/plain": [
       "demoResources/beakerxTestLibrary.jar\n",
       "demoResources/BeakerXClasspathTest.jar"
      ]
     },
     "execution_count": 10,
     "metadata": {},
     "output_type": "execute_result"
    }
   ],
   "source": [
    "%classpath"
   ]
  },
  {
   "cell_type": "code",
   "execution_count": 11,
   "metadata": {
    "collapsed": true
   },
   "outputs": [],
   "source": [
    "%import com.twosigma.beakerx.widgets.integers.IntSlider\n",
    "w = new IntSlider()\n",
    "w.value = 60\n",
    "w"
   ]
  },
  {
   "cell_type": "code",
   "execution_count": 12,
   "metadata": {
    "collapsed": true
   },
   "outputs": [],
   "source": [
    "w2 = new IntSlider()"
   ]
  },
  {
   "cell_type": "code",
   "execution_count": 13,
   "metadata": {},
   "outputs": [],
   "source": [
    "%unimport com.twosigma.beakerx.widgets.integers.IntSlider"
   ]
  },
  {
   "cell_type": "code",
   "execution_count": 14,
   "metadata": {},
   "outputs": [
    {
     "ename": "org.codehaus.groovy.control.MultipleCompilationErrorsException",
     "evalue": " startup failed",
     "output_type": "error",
     "traceback": [
      "\u001b[0;31morg.codehaus.groovy.control.MultipleCompilationErrorsException: startup failed:",
      "\u001b[0;31mscript14985462236252083849814.groovy: 1: unable to resolve class IntSlider ",
      "\u001b[0;31m @ line 1, column 6.",
      "\u001b[0;31m   w3 = new IntSlider()",
      "\u001b[0;31m        ^",
      "\u001b[0;31m",
      "\u001b[0;31m1 error",
      "\u001b[0;31m",
      "\u001b[0;31m\tat com.twosigma.beakerx.groovy.evaluator.GroovyEvaluator$workerThread$MyRunnable.run(GroovyEvaluator.java:449)"
     ]
    }
   ],
   "source": [
    "w3 = new IntSlider()"
   ]
  },
  {
   "cell_type": "code",
   "execution_count": 15,
   "metadata": {},
   "outputs": [
    {
     "data": {
      "text/plain": [
       "10"
      ]
     },
     "execution_count": 15,
     "metadata": {},
     "output_type": "execute_result"
    }
   ],
   "source": [
    "%classpath add jar demoResources/beakerxTestLibrary.jar\n",
    "%classpath\n",
    "5+5"
   ]
  },
  {
   "cell_type": "code",
   "execution_count": 16,
   "metadata": {
    "collapsed": true
   },
   "outputs": [],
   "source": [
    "%classpath\n",
    "%classpath add jar demoResources/beakerxTestLibrary.jar"
   ]
  },
  {
   "cell_type": "code",
   "execution_count": 17,
   "metadata": {},
   "outputs": [
    {
     "data": {
      "text/plain": [
       "demoResources/beakerxTestLibrary.jar\n",
       "demoResources/BeakerXClasspathTest.jar"
      ]
     },
     "execution_count": 17,
     "metadata": {},
     "output_type": "execute_result"
    }
   ],
   "source": [
    "%classpath add jar demoResources/beakerxTestLibrary.jar\n",
    "%classpath"
   ]
  },
  {
   "cell_type": "code",
   "execution_count": null,
   "metadata": {
    "collapsed": true
   },
   "outputs": [],
   "source": []
  }
 ],
 "metadata": {
  "beakerx_kernel_parameters": {},
  "kernelspec": {
   "display_name": "Groovy",
   "language": "groovy",
   "name": "groovy"
  },
  "language_info": {
   "codemirror_mode": "groovy",
   "file_extension": ".groovy",
   "mimetype": "",
   "name": "Groovy",
   "nbconverter_exporter": "",
   "version": "2.4.3"
  }
 },
 "nbformat": 4,
 "nbformat_minor": 1
}
